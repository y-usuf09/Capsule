{
 "cells": [
  {
   "cell_type": "code",
   "execution_count": 1,
   "metadata": {},
   "outputs": [
    {
     "name": "stdout",
     "output_type": "stream",
     "text": [
      "['banana', 'orange']\n"
     ]
    }
   ],
   "source": [
    "lst =['apple', 'mango','banana', 'orange', 'grapes', 'apple', 'ginger', 'mango', 'banana', 'orange', 'grapes']\n",
    "print(lst[2:4])\n",
    "\n"
   ]
  },
  {
   "cell_type": "code",
   "execution_count": 8,
   "metadata": {},
   "outputs": [
    {
     "name": "stdout",
     "output_type": "stream",
     "text": [
      "['apple', 'mango', 'banana', 'orange', 'grapes', 'apple', 'ginger', 'mango', 'banana', 'orange', 'grapes']\n"
     ]
    }
   ],
   "source": [
    "lst =['apple', 'mango','banana', 'orange', 'grapes', 'apple', 'ginger', 'mango', 'banana', 'orange', 'grapes']\n",
    "print(lst[:])\n"
   ]
  },
  {
   "cell_type": "code",
   "execution_count": 9,
   "metadata": {},
   "outputs": [
    {
     "name": "stdout",
     "output_type": "stream",
     "text": [
      "['apple', 'mango', 'banana', 'orange']\n"
     ]
    }
   ],
   "source": [
    "lst =['apple', 'mango','banana', 'orange', 'grapes', 'apple', 'ginger', 'mango', 'banana', 'orange', 'grapes']\n",
    "print(lst[0:4])\n"
   ]
  },
  {
   "cell_type": "code",
   "execution_count": 10,
   "metadata": {},
   "outputs": [
    {
     "data": {
      "text/plain": [
       "11"
      ]
     },
     "execution_count": 10,
     "metadata": {},
     "output_type": "execute_result"
    }
   ],
   "source": [
    "lst =['apple', 'mango','banana', 'orange', 'grapes', 'apple', 'ginger', 'mango', 'banana', 'orange', 'grapes']\n",
    "len(lst)"
   ]
  },
  {
   "cell_type": "markdown",
   "metadata": {},
   "source": [
    "# Append [Insert value at the end]"
   ]
  },
  {
   "cell_type": "code",
   "execution_count": 12,
   "metadata": {},
   "outputs": [
    {
     "name": "stdout",
     "output_type": "stream",
     "text": [
      "['apple', 'mango', 'banana', 'orange', 'grapes', 'apple', 'ginger', 'mango', 'banana', 'orange', 'grapes', 'pineapple']\n"
     ]
    }
   ],
   "source": [
    "lst =['apple', 'mango','banana', 'orange', 'grapes', 'apple', 'ginger', 'mango', 'banana', 'orange', 'grapes']\n",
    "lst.append('pineapple')\n",
    "print(lst)"
   ]
  },
  {
   "cell_type": "markdown",
   "metadata": {},
   "source": [
    "# Insert [Add value at specific position]"
   ]
  },
  {
   "cell_type": "code",
   "execution_count": 13,
   "metadata": {},
   "outputs": [
    {
     "name": "stdout",
     "output_type": "stream",
     "text": [
      "['apple', 'pineapple', 'mango', 'banana', 'orange', 'grapes', 'apple', 'ginger', 'mango', 'banana', 'orange', 'grapes']\n"
     ]
    }
   ],
   "source": [
    "lst =['apple', 'mango','banana', 'orange', 'grapes', 'apple', 'ginger', 'mango', 'banana', 'orange', 'grapes']\n",
    "lst.insert(1,'pineapple')\n",
    "print(lst)"
   ]
  },
  {
   "cell_type": "markdown",
   "metadata": {},
   "source": [
    "# Remove [It removes the value]"
   ]
  },
  {
   "cell_type": "code",
   "execution_count": 14,
   "metadata": {},
   "outputs": [
    {
     "name": "stdout",
     "output_type": "stream",
     "text": [
      "['mango', 'banana', 'orange', 'grapes', 'apple', 'ginger', 'mango', 'banana', 'orange', 'grapes']\n"
     ]
    }
   ],
   "source": [
    "lst =['apple', 'mango','banana', 'orange', 'grapes', 'apple', 'ginger', 'mango', 'banana', 'orange', 'grapes']\n",
    "lst.remove('apple')\n",
    "print(lst)"
   ]
  },
  {
   "cell_type": "markdown",
   "metadata": {},
   "source": [
    "# Pop [It removes the element at the specified position]"
   ]
  },
  {
   "cell_type": "code",
   "execution_count": 15,
   "metadata": {},
   "outputs": [
    {
     "name": "stdout",
     "output_type": "stream",
     "text": [
      "['apple', 'mango', 'banana', 'grapes', 'apple', 'ginger', 'mango', 'banana', 'orange', 'grapes']\n"
     ]
    }
   ],
   "source": [
    "lst =['apple', 'mango','banana', 'orange', 'grapes', 'apple', 'ginger', 'mango', 'banana', 'orange', 'grapes']\n",
    "lst.pop(3)\n",
    "print(lst)"
   ]
  },
  {
   "cell_type": "markdown",
   "metadata": {},
   "source": [
    "# Clear"
   ]
  },
  {
   "cell_type": "code",
   "execution_count": 16,
   "metadata": {},
   "outputs": [
    {
     "name": "stdout",
     "output_type": "stream",
     "text": [
      "[]\n"
     ]
    }
   ],
   "source": [
    "lst =['apple', 'mango','banana', 'orange', 'grapes', 'apple', 'ginger', 'mango', 'banana', 'orange', 'grapes']\n",
    "lst.clear()\n",
    "print(lst)"
   ]
  },
  {
   "cell_type": "markdown",
   "metadata": {},
   "source": [
    "# Reverse"
   ]
  },
  {
   "cell_type": "code",
   "execution_count": 17,
   "metadata": {},
   "outputs": [
    {
     "name": "stdout",
     "output_type": "stream",
     "text": [
      "['grapes', 'orange', 'banana', 'mango', 'ginger', 'apple', 'grapes', 'orange', 'banana', 'mango', 'apple']\n"
     ]
    }
   ],
   "source": [
    "lst =['apple', 'mango','banana', 'orange', 'grapes', 'apple', 'ginger', 'mango', 'banana', 'orange', 'grapes']\n",
    "lst.reverse()\n",
    "print(lst)"
   ]
  },
  {
   "cell_type": "markdown",
   "metadata": {},
   "source": [
    "# Copy"
   ]
  },
  {
   "cell_type": "code",
   "execution_count": 19,
   "metadata": {},
   "outputs": [
    {
     "name": "stdout",
     "output_type": "stream",
     "text": [
      "['apple', 'mango', 'banana', 'orange', 'grapes', 'apple', 'ginger', 'mango', 'banana', 'orange', 'grapes']\n"
     ]
    }
   ],
   "source": [
    "lst =['apple', 'mango','banana', 'orange', 'grapes', 'apple', 'ginger', 'mango', 'banana', 'orange', 'grapes']\n",
    "x=lst.copy()\n",
    "print(x)"
   ]
  },
  {
   "cell_type": "markdown",
   "metadata": {},
   "source": [
    "# Sort"
   ]
  },
  {
   "cell_type": "code",
   "execution_count": 20,
   "metadata": {},
   "outputs": [
    {
     "name": "stdout",
     "output_type": "stream",
     "text": [
      "['apple', 'apple', 'banana', 'banana', 'ginger', 'grapes', 'grapes', 'mango', 'mango', 'orange', 'orange']\n"
     ]
    }
   ],
   "source": [
    "lst =['apple', 'mango','banana', 'orange', 'grapes', 'apple', 'ginger', 'mango', 'banana', 'orange', 'grapes']\n",
    "lst.sort()\n",
    "print(lst)\n"
   ]
  },
  {
   "cell_type": "markdown",
   "metadata": {},
   "source": [
    "# Extend"
   ]
  },
  {
   "cell_type": "code",
   "execution_count": 21,
   "metadata": {},
   "outputs": [
    {
     "name": "stdout",
     "output_type": "stream",
     "text": [
      "['apple', 'mango', 'banana', 'orange', 'grapes', 'apple', 'ginger', 'mango', 'banana', 'orange', 'grapes']\n"
     ]
    }
   ],
   "source": [
    "l1=['apple', 'mango','banana', 'orange', 'grapes']\n",
    "l2=['apple', 'ginger', 'mango', 'banana', 'orange', 'grapes']\n",
    "l1.extend(l2)\n",
    "print(l1)\n",
    "\n"
   ]
  },
  {
   "cell_type": "markdown",
   "metadata": {},
   "source": [
    "# count"
   ]
  },
  {
   "cell_type": "code",
   "execution_count": 22,
   "metadata": {},
   "outputs": [
    {
     "name": "stdout",
     "output_type": "stream",
     "text": [
      "2\n"
     ]
    }
   ],
   "source": [
    "lst =['apple', 'mango','banana', 'orange', 'grapes', 'apple', 'ginger', 'mango', 'banana', 'orange', 'grapes']\n",
    "x=lst.count('apple')\n",
    "print(x)"
   ]
  },
  {
   "cell_type": "code",
   "execution_count": null,
   "metadata": {},
   "outputs": [],
   "source": []
  }
 ],
 "metadata": {
  "kernelspec": {
   "display_name": "Python 3",
   "language": "python",
   "name": "python3"
  },
  "language_info": {
   "codemirror_mode": {
    "name": "ipython",
    "version": 3
   },
   "file_extension": ".py",
   "mimetype": "text/x-python",
   "name": "python",
   "nbconvert_exporter": "python",
   "pygments_lexer": "ipython3",
   "version": "3.11.5"
  }
 },
 "nbformat": 4,
 "nbformat_minor": 2
}
