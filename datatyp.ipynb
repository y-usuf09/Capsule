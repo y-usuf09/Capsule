{
 "cells": [
  {
   "cell_type": "code",
   "execution_count": 1,
   "metadata": {},
   "outputs": [
    {
     "name": "stdout",
     "output_type": "stream",
     "text": [
      "yusuf\n",
      "22\n"
     ]
    }
   ],
   "source": [
    "a= \"yusuf\"\n",
    "b= 22\n",
    "print(a)\n",
    "print(b)"
   ]
  },
  {
   "cell_type": "code",
   "execution_count": 2,
   "metadata": {},
   "outputs": [
    {
     "name": "stdout",
     "output_type": "stream",
     "text": [
      "['apple', 'mango', 'banana', 'orange', 'grapes']\n"
     ]
    }
   ],
   "source": [
    "fruits=['apple','mango','banana','orange','grapes']\n",
    "print(fruits)"
   ]
  },
  {
   "cell_type": "code",
   "execution_count": 7,
   "metadata": {},
   "outputs": [
    {
     "name": "stdout",
     "output_type": "stream",
     "text": [
      "{'orange', 'grapes', 'banana', 'mango', 'apple'}\n"
     ]
    }
   ],
   "source": [
    "fruits={'apple','mango','banana','orange','grapes','grapes','orange'}\n",
    "print(fruits)"
   ]
  },
  {
   "cell_type": "code",
   "execution_count": 13,
   "metadata": {},
   "outputs": [
    {
     "name": "stdout",
     "output_type": "stream",
     "text": [
      "{'name': 'john', 'age': 23, 'class': '12th'}\n"
     ]
    }
   ],
   "source": [
    "student={\n",
    "    'name':'john',\n",
    "    'age':23,\n",
    "    'class':'12th'\n",
    "}\n",
    "print(student)"
   ]
  },
  {
   "cell_type": "code",
   "execution_count": 17,
   "metadata": {},
   "outputs": [
    {
     "name": "stdout",
     "output_type": "stream",
     "text": [
      "{'name': 'pc', 'location': 'delhi', 'vacancy': 'hr'}\n"
     ]
    }
   ],
   "source": [
    "company={\n",
    "    'name':'pc',\n",
    "    'location':'delhi',\n",
    "    'vacancy':'hr',\n",
    "}\n",
    "print(company)"
   ]
  },
  {
   "cell_type": "code",
   "execution_count": 1,
   "metadata": {},
   "outputs": [
    {
     "name": "stdout",
     "output_type": "stream",
     "text": [
      "name:john\n",
      "age:23\n",
      "class:12th\n"
     ]
    }
   ],
   "source": [
    "student={\n",
    "    'name':'john',\n",
    "    'age':23,\n",
    "    'class':'12th'\n",
    "}\n",
    "for key,value in student.items():\n",
    "    print(f'{key}:{value}')"
   ]
  },
  {
   "cell_type": "code",
   "execution_count": null,
   "metadata": {},
   "outputs": [],
   "source": []
  }
 ],
 "metadata": {
  "kernelspec": {
   "display_name": "Python 3",
   "language": "python",
   "name": "python3"
  },
  "language_info": {
   "codemirror_mode": {
    "name": "ipython",
    "version": 3
   },
   "file_extension": ".py",
   "mimetype": "text/x-python",
   "name": "python",
   "nbconvert_exporter": "python",
   "pygments_lexer": "ipython3",
   "version": "3.11.5"
  },
  "orig_nbformat": 4
 },
 "nbformat": 4,
 "nbformat_minor": 2
}
