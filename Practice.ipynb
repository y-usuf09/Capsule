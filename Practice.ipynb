{
 "cells": [
  {
   "cell_type": "code",
   "execution_count": 1,
   "metadata": {},
   "outputs": [
    {
     "name": "stdout",
     "output_type": "stream",
     "text": [
      "['dog', 'cat', 'horse', 'tiger', 'zebra']\n"
     ]
    }
   ],
   "source": [
    "pets=['dog','cat','horse','tiger','zebra']\n",
    "print(pets)"
   ]
  },
  {
   "cell_type": "code",
   "execution_count": 2,
   "metadata": {},
   "outputs": [
    {
     "name": "stdout",
     "output_type": "stream",
     "text": [
      "{0, 1, 2, 3, 4, 5, 6, 7, 8, 9}\n"
     ]
    }
   ],
   "source": [
    "a={1,2,3,4,5,6,7,8,3,4,6,7,9,0,7}\n",
    "print(a)"
   ]
  },
  {
   "cell_type": "code",
   "execution_count": 4,
   "metadata": {},
   "outputs": [
    {
     "name": "stdout",
     "output_type": "stream",
     "text": [
      "{'student name': 'Yusuf', 'highest qualification': 'bcom', 'year of passing': '2023', 'college name': 'lcdc', 'location': 'golaganj,lucknow', 'experience': '1 years as an hr', 'area of interest': 'data analyst'}\n"
     ]
    }
   ],
   "source": [
    "details={\n",
    "    'student name':'Yusuf',\n",
    "    'highest qualification':'bcom',\n",
    "    'year of passing':'2023',\n",
    "    'college name':'lcdc',\n",
    "    'location':'golaganj,lucknow',\n",
    "    'experience':'1 years as an hr',\n",
    "    'area of interest':'data analyst',\n",
    "\n",
    "}\n",
    "print(details)"
   ]
  },
  {
   "cell_type": "code",
   "execution_count": 3,
   "metadata": {},
   "outputs": [
    {
     "name": "stdout",
     "output_type": "stream",
     "text": [
      "15\n",
      "5\n",
      "50\n",
      "2.0\n",
      "2\n",
      "0\n",
      "100000\n"
     ]
    }
   ],
   "source": [
    "a=int(input(\"enter the value:\"))\n",
    "b=int(input(\"enter the value:\"))\n",
    "print(a+b)\n",
    "print(a-b)\n",
    "print(a*b)\n",
    "print(a/b)\n",
    "print(a//b)\n",
    "print(a%b)\n",
    "print(a**b)"
   ]
  },
  {
   "cell_type": "code",
   "execution_count": 1,
   "metadata": {},
   "outputs": [
    {
     "name": "stdout",
     "output_type": "stream",
     "text": [
      "False\n",
      "False\n",
      "True\n",
      "False\n",
      "True\n",
      "True\n"
     ]
    },
    {
     "data": {
      "text/plain": [
       "True"
      ]
     },
     "execution_count": 1,
     "metadata": {},
     "output_type": "execute_result"
    }
   ],
   "source": [
    "a=bool(input(\"enter the value:\"))\n",
    "b=bool(input(\"enter the value:\"))\n",
    "print(a>b)\n",
    "print(a<b)\n",
    "print(a==b)\n",
    "print(a!=b)\n",
    "print(a>=b)\n",
    "print(a<=b)\n",
    "a>7 and a<20\n",
    "not(a>7 and a<20)"
   ]
  },
  {
   "cell_type": "code",
   "execution_count": 11,
   "metadata": {},
   "outputs": [
    {
     "name": "stdout",
     "output_type": "stream",
     "text": [
      "my name is Yusuf, and my age is 22\n"
     ]
    }
   ],
   "source": [
    "name=str(input(\"enter your name:\"))\n",
    "age=str(input(\"enter your age:\"))\n",
    "print(f\"my name is {name}, and my age is {age}\")"
   ]
  },
  {
   "cell_type": "code",
   "execution_count": 15,
   "metadata": {},
   "outputs": [
    {
     "name": "stdout",
     "output_type": "stream",
     "text": [
      "my name is Yusuf, my age is 22, and my hobbies are nothing\n"
     ]
    }
   ],
   "source": [
    "name=str(input(\"enter your name:\"))\n",
    "age=str(input(\"enter your age:\"))\n",
    "hobbies=(input(\"enter your hobbies:\"))\n",
    "print(f\"my name is {name}, my age is {age}, and my hobbies are {hobbies}\")"
   ]
  },
  {
   "cell_type": "markdown",
   "metadata": {},
   "source": [
    "#### Perimeter Of triangle"
   ]
  },
  {
   "cell_type": "code",
   "execution_count": 4,
   "metadata": {},
   "outputs": [
    {
     "name": "stdout",
     "output_type": "stream",
     "text": [
      "102\n"
     ]
    }
   ],
   "source": [
    "a=int(input(\"enter your value:\"))\n",
    "b=int(input(\"enter your value:\"))\n",
    "c=int(input(\"enter your value:\"))\n",
    "p=a+b+c\n",
    "print(p)"
   ]
  },
  {
   "cell_type": "markdown",
   "metadata": {},
   "source": [
    "Area Of Circle"
   ]
  },
  {
   "cell_type": "code",
   "execution_count": 10,
   "metadata": {},
   "outputs": [
    {
     "name": "stdout",
     "output_type": "stream",
     "text": [
      "33\n"
     ]
    }
   ],
   "source": [
    "r=int(input(\"enter your value:\"))\n",
    "π=3.14\n",
    "A=π*r**2\n",
    "print(a)"
   ]
  },
  {
   "cell_type": "markdown",
   "metadata": {},
   "source": [
    "Convert F into C"
   ]
  },
  {
   "cell_type": "code",
   "execution_count": 8,
   "metadata": {},
   "outputs": [
    {
     "name": "stdout",
     "output_type": "stream",
     "text": [
      "100\n",
      "-37.77777777777778\n"
     ]
    }
   ],
   "source": [
    "f=int(input(\"enter your value:\"))\n",
    "formula=(32-f)*5/9\n",
    "print(f)\n",
    "print(formula)"
   ]
  },
  {
   "cell_type": "code",
   "execution_count": 3,
   "metadata": {},
   "outputs": [
    {
     "name": "stdout",
     "output_type": "stream",
     "text": [
      "Your value is 100\n",
      "125.0\n"
     ]
    }
   ],
   "source": [
    "bs=int(input(\"enter your value:\"))\n",
    "tda=10*bs/100\n",
    "hra=15*bs/100\n",
    "print(f\"Your value is {bs}\")\n",
    "gsal=bs+tda+hra\n",
    "print(gsal)\n"
   ]
  },
  {
   "cell_type": "code",
   "execution_count": 10,
   "metadata": {},
   "outputs": [
    {
     "name": "stdout",
     "output_type": "stream",
     "text": [
      "It's a vovel\n"
     ]
    }
   ],
   "source": [
    "c=str(input(\"enter a alphabet\"))\n",
    "if c=='a' or c=='e' or c=='i' or c=='o' or c=='u':\n",
    "    print(\"It's a vovel\")\n",
    "else:\n",
    "    print(\"It's a consonent\")"
   ]
  },
  {
   "cell_type": "code",
   "execution_count": 1,
   "metadata": {},
   "outputs": [
    {
     "name": "stdout",
     "output_type": "stream",
     "text": [
      "It's a vovel\n"
     ]
    }
   ],
   "source": [
    "A=(input(\"Enter the aphabet\"))\n",
    "if A in ('a','e','i','o','u'):\n",
    "    print(\"It's a vovel\")\n",
    "else:\n",
    "    print(\"It's a consonent\")\n",
    "             "
   ]
  },
  {
   "cell_type": "code",
   "execution_count": 12,
   "metadata": {},
   "outputs": [
    {
     "name": "stdout",
     "output_type": "stream",
     "text": [
      "It's a consonent\n"
     ]
    }
   ],
   "source": [
    "c=str(input(\"enter a alphabet\"))\n",
    "#lst=['a','e','i','o','u']\n",
    "lst=\"aeiou\"\n",
    "if c in lst:\n",
    "    print(\"it's a vovel\")\n",
    "else:\n",
    "    print(\"It's a consonent\")"
   ]
  },
  {
   "cell_type": "code",
   "execution_count": 1,
   "metadata": {},
   "outputs": [
    {
     "name": "stdout",
     "output_type": "stream",
     "text": [
      "email is invlid 🤷‍♂️\n"
     ]
    }
   ],
   "source": [
    "username=input(\"Enter your name\")\n",
    "email=input(\"Enter your email\")\n",
    "pwd=input(\"Enter your password\")\n",
    "pwd2=input(\"Enter your password\")\n",
    "if len(username)>=4 and len(username)<=15:\n",
    "    if'@' in email and email.islower() and len(email)>10:\n",
    "        if len(pwd)>=6 and pwd!=username:\n",
    "            if pwd==pwd2:\n",
    "                print(\"Hurray😁\")\n",
    "            else:\n",
    "                print(\"password do not match😶\")\n",
    "        else:\n",
    "            print(\"password is invalid🤨\")\n",
    "    else:\n",
    "         print(\"email is invlid 🤷‍♂️\")\n",
    "else:\n",
    "    print(\"username is invalid🤐\")"
   ]
  },
  {
   "cell_type": "code",
   "execution_count": null,
   "metadata": {},
   "outputs": [],
   "source": []
  }
 ],
 "metadata": {
  "kernelspec": {
   "display_name": "Python 3",
   "language": "python",
   "name": "python3"
  },
  "language_info": {
   "codemirror_mode": {
    "name": "ipython",
    "version": 3
   },
   "file_extension": ".py",
   "mimetype": "text/x-python",
   "name": "python",
   "nbconvert_exporter": "python",
   "pygments_lexer": "ipython3",
   "version": "3.11.5"
  },
  "orig_nbformat": 4
 },
 "nbformat": 4,
 "nbformat_minor": 2
}
