{
 "cells": [
  {
   "cell_type": "markdown",
   "metadata": {},
   "source": [
    "Conditional Statement\n",
    "- If\n",
    "- Else\n",
    "- Elif\n",
    "- nestedif"
   ]
  },
  {
   "cell_type": "code",
   "execution_count": 7,
   "metadata": {},
   "outputs": [
    {
     "name": "stdout",
     "output_type": "stream",
     "text": [
      "b is greater than a\n",
      "c is greater than a\n",
      "c is greater than b\n"
     ]
    }
   ],
   "source": [
    "a=10\n",
    "b=20\n",
    "c=30\n",
    "if a>b:\n",
    "    print(\"a is greater than b\")\n",
    "if a>c:\n",
    "    print(\"a is greater than c\")\n",
    "if b>c:\n",
    "    print(\"b is greater than c\")\n",
    "if b>a:\n",
    "    print(\"b is greater than a\")\n",
    "if c>a:\n",
    "    print(\"c is greater than a\")\n",
    "if c>b:\n",
    "     print(\"c is greater than b\")\n"
   ]
  },
  {
   "cell_type": "code",
   "execution_count": 3,
   "metadata": {},
   "outputs": [
    {
     "name": "stdout",
     "output_type": "stream",
     "text": [
      "you are eligible to vote\n"
     ]
    }
   ],
   "source": [
    "age=int(input(\"enter your age\"))\n",
    "if age>18:\n",
    "    print(\"you are eligible to vote\")\n",
    "else:\n",
    "    print(\"you are not eligible to vote\")"
   ]
  },
  {
   "cell_type": "code",
   "execution_count": 2,
   "metadata": {},
   "outputs": [
    {
     "name": "stdout",
     "output_type": "stream",
     "text": [
      "b is greater than a\n"
     ]
    }
   ],
   "source": [
    "a=10\n",
    "b=20\n",
    "c=30\n",
    "if a>b:\n",
    "    print(\"a is greater than b\")\n",
    "elif a>c:\n",
    "    print(\"a is greater than c\")\n",
    "elif b>c:\n",
    "    print(\"b is greater than c\")\n",
    "elif b>a:\n",
    "    print(\"b is greater than a\")\n",
    "elif c>a:\n",
    "    print(\"c is greater than a\")\n",
    "elif c>b:\n",
    "     print(\"c is greater than b\")\n",
    "else:\n",
    "    print(\"Invalid number\")\n"
   ]
  },
  {
   "cell_type": "code",
   "execution_count": 13,
   "metadata": {},
   "outputs": [
    {
     "name": "stdout",
     "output_type": "stream",
     "text": [
      "a is a positive number\n"
     ]
    }
   ],
   "source": [
    "a=int(input(\"enter your number\"))\n",
    "if a>0:\n",
    "    print(\"a is a positive number\")\n",
    "else:\n",
    "    print(\"a is a negative number\")"
   ]
  },
  {
   "cell_type": "code",
   "execution_count": 19,
   "metadata": {},
   "outputs": [
    {
     "name": "stdout",
     "output_type": "stream",
     "text": [
      "a is not a even number\n"
     ]
    }
   ],
   "source": [
    "a=int(input(\"enter your number\"))\n",
    "if a%2==0:\n",
    "    print(\"a is a even number\")\n",
    "else:\n",
    "    print(\"a is not a even number\")"
   ]
  },
  {
   "cell_type": "code",
   "execution_count": 12,
   "metadata": {},
   "outputs": [
    {
     "name": "stdout",
     "output_type": "stream",
     "text": [
      "It's a consonent\n"
     ]
    }
   ],
   "source": [
    "A=(input(\"Enter the aphabet\"))\n",
    "if A in ('a','e','i','o','u'):\n",
    "    print(\"It's a vovel\")\n",
    "else:\n",
    "    print(\"It's a consonent\")\n",
    "             "
   ]
  },
  {
   "cell_type": "code",
   "execution_count": 9,
   "metadata": {},
   "outputs": [
    {
     "name": "stdout",
     "output_type": "stream",
     "text": [
      "Grade B\n",
      "Grade C\n",
      "Grade D\n",
      "Grade E\n"
     ]
    }
   ],
   "source": [
    "a=int(input(\"Enter your percentage\"))\n",
    "if a>90:\n",
    "    print(\"Grade A\")\n",
    "if a>75:\n",
    "    print(\"Grade B\")\n",
    "if a>65:\n",
    "    print(\"Grade C\")\n",
    "if a>55:\n",
    "    print(\"Grade D\")\n",
    "if a>45:\n",
    "    print(\"Grade E\")\n",
    "if a<45:\n",
    "    print(\"Grade F\")"
   ]
  },
  {
   "cell_type": "code",
   "execution_count": 17,
   "metadata": {},
   "outputs": [
    {
     "name": "stdout",
     "output_type": "stream",
     "text": [
      "scalene triangle\n"
     ]
    }
   ],
   "source": [
    "a=int(input(\"Enter your side\"))\n",
    "b=int(input(\"Enter your side\"))\n",
    "c=int(input(\"Enter your side\"))\n",
    "if a==b==c:\n",
    "    print(\"Equilteral triangle\")\n",
    "elif a==b or b==c or c==a:\n",
    "   print(\"isosceles triangle\")\n",
    "else:\n",
    "    print(\"scalene triangle\")\n"
   ]
  },
  {
   "cell_type": "code",
   "execution_count": 14,
   "metadata": {},
   "outputs": [
    {
     "name": "stdout",
     "output_type": "stream",
     "text": [
      "zomato is in the list\n"
     ]
    }
   ],
   "source": [
    "mobile_app=['swiggy','zomato','clash of clan','pubg','ola','uber']\n",
    "if \"zomato\" in mobile_app:\n",
    "    print(\"zomato is in the list\")\n",
    "else:\n",
    "    (\"zomato is not in the list\")\n",
    "\n"
   ]
  },
  {
   "cell_type": "code",
   "execution_count": 22,
   "metadata": {},
   "outputs": [
    {
     "name": "stdout",
     "output_type": "stream",
     "text": [
      "its a leap year\n"
     ]
    }
   ],
   "source": [
    "y=int(input(\"enter the year\"))\n",
    "if y%4==0:\n",
    "  print(\"its a leap year\")\n",
    "elif y%400==0:\n",
    "    print(\"its a leap year\")\n",
    "elif y%100!=0:\n",
    "    print(\"its a leap year\")\n",
    "else:\n",
    "  \n",
    "  print(\"its not a leap year\")\n",
    "\n",
    "  "
   ]
  },
  {
   "cell_type": "code",
   "execution_count": 4,
   "metadata": {},
   "outputs": [
    {
     "name": "stdout",
     "output_type": "stream",
     "text": [
      "its not a leap year\n"
     ]
    }
   ],
   "source": [
    "y=int(input(\"enter the year\"))\n",
    "if y%4==0:\n",
    "  print(\"its a leap year\")\n",
    "elif y%400==0 and y%100!=0:\n",
    "    print(\"its a leap year\")\n",
    "else:\n",
    "    print(\"its not a leap year\")"
   ]
  },
  {
   "cell_type": "markdown",
   "metadata": {},
   "source": [
    "# Nested If"
   ]
  },
  {
   "cell_type": "code",
   "execution_count": 4,
   "metadata": {},
   "outputs": [
    {
     "name": "stdout",
     "output_type": "stream",
     "text": [
      "Good\n"
     ]
    }
   ],
   "source": [
    "marks=int(input(\"Enter your marks\"))\n",
    "if marks>50:\n",
    "    if marks>75:\n",
    "        if marks>90:\n",
    "            print(\"Excellent\")\n",
    "        else:\n",
    "             print(\"Very good\")\n",
    "    else:\n",
    "        print(\"Good\")\n",
    "else:\n",
    "    print(\"Poor\")\n",
    "\n",
    "\n",
    "\n"
   ]
  },
  {
   "cell_type": "code",
   "execution_count": 12,
   "metadata": {},
   "outputs": [
    {
     "name": "stdout",
     "output_type": "stream",
     "text": [
      "Negative No\n"
     ]
    }
   ],
   "source": [
    "x=int(input(\"Enter your Number\"))\n",
    "if x>=0:\n",
    "    if x==0:\n",
    "         print(\"Zero\")\n",
    "    else:\n",
    "        print(\"Positive No\")\n",
    "else:\n",
    "     print(\"Negative No\")\n"
   ]
  },
  {
   "cell_type": "code",
   "execution_count": 4,
   "metadata": {},
   "outputs": [
    {
     "name": "stdout",
     "output_type": "stream",
     "text": [
      "not eligible\n"
     ]
    }
   ],
   "source": [
    "x=int(input(\"Enter Candidate Age\"))\n",
    "y=True\n",
    "z=False \n",
    "if x>=18:\n",
    "    if y==True:\n",
    "        if z==True:\n",
    "            print(\"eligible\")\n",
    "        else:\n",
    "            print(\"not eligible\")\n",
    "    else:\n",
    "         print(\"error\")\n",
    "       \n",
    "  \n",
    "         "
   ]
  },
  {
   "cell_type": "code",
   "execution_count": null,
   "metadata": {},
   "outputs": [],
   "source": []
  }
 ],
 "metadata": {
  "kernelspec": {
   "display_name": "Python 3",
   "language": "python",
   "name": "python3"
  },
  "language_info": {
   "codemirror_mode": {
    "name": "ipython",
    "version": 3
   },
   "file_extension": ".py",
   "mimetype": "text/x-python",
   "name": "python",
   "nbconvert_exporter": "python",
   "pygments_lexer": "ipython3",
   "version": "3.11.5"
  },
  "orig_nbformat": 4
 },
 "nbformat": 4,
 "nbformat_minor": 2
}
